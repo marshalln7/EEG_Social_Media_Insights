{
 "cells": [
  {
   "cell_type": "code",
   "execution_count": 2,
   "id": "2c30169e",
   "metadata": {},
   "outputs": [
    {
     "name": "stdout",
     "output_type": "stream",
     "text": [
      "Extracting EDF parameters from C:\\Users\\Administrator\\Downloads\\NeuroSenseEEGDataset\\BIDS\\sub-ID017\\ses-S001\\eeg\\sub-ID017_ses-S001_task-Default_run-001_eeg.edf...\n",
      "EDF file detected\n",
      "Setting channel info structure...\n",
      "Creating raw.info structure...\n",
      "Reading 0 ... 16639  =      0.000 ...    64.996 secs...\n"
     ]
    }
   ],
   "source": [
    "import mne\n",
    "file_path = r\"C:\\Users\\Administrator\\Downloads\\NeuroSenseEEGDataset\\BIDS\\sub-ID017\\ses-S001\\eeg\\sub-ID017_ses-S001_task-Default_run-001_eeg.edf\"\n",
    "raw = mne.io.read_raw_edf(file_path, preload=True)"
   ]
  },
  {
   "cell_type": "code",
   "execution_count": 11,
   "id": "04b5ce42",
   "metadata": {},
   "outputs": [
    {
     "name": "stdout",
     "output_type": "stream",
     "text": [
      "/yunity/msn39/EEG_Social_Media_Insights/raw datasets/NeuroSense/sub-ID000/ses-S001/eeg/sub-ID000_ses-S001_task-Default_run-001_eeg.edf\n",
      "Extracting EDF parameters from /yunity/msn39/EEG_Social_Media_Insights/raw datasets/NeuroSense/sub-ID000/ses-S001/eeg/sub-ID000_ses-S001_task-Default_run-001_eeg.edf...\n",
      "EDF file detected\n",
      "Setting channel info structure...\n",
      "Creating raw.info structure...\n",
      "Reading 0 ... 16383  =      0.000 ...    63.996 secs...\n",
      "EDF file channels: ['AF7', 'TP9', 'TP10', 'AF8']\n"
     ]
    }
   ],
   "source": [
    "import mne\n",
    "import os\n",
    "import pandas as pd\n",
    "\n",
    "# Load EDF file\n",
    "edf_path = os.path.join(\"/yunity/msn39/EEG_Social_Media_Insights/raw datasets/NeuroSense/sub-ID000/ses-S001/eeg/sub-ID000_ses-S001_task-Default_run-001_eeg.edf\")\n",
    "print(edf_path)\n",
    "raw = mne.io.read_raw_edf(edf_path, preload=True)\n",
    "\n",
    "print(\"EDF file channels:\", raw.ch_names)\n"
   ]
  },
  {
   "cell_type": "code",
   "execution_count": 12,
   "id": "ffa17c53",
   "metadata": {},
   "outputs": [
    {
     "name": "stdout",
     "output_type": "stream",
     "text": [
      "NOTE: pick_channels() is a legacy function. New code should use inst.pick(...).\n",
      "CSV file saved as eeg_data.csv\n"
     ]
    }
   ],
   "source": [
    "\n",
    "# Pick only the desired channels\n",
    "desired_channels = ['TP9', 'AF7', 'AF8', 'TP10']\n",
    "raw.pick_channels(desired_channels)\n",
    "\n",
    "# Get data and timestamps\n",
    "data, times = raw.get_data(return_times=True)  # data shape: (n_channels, n_times)\n",
    "\n",
    "# Create a DataFrame\n",
    "df = pd.DataFrame(data.T, columns=desired_channels)  # Transpose to shape (n_times, n_channels)\n",
    "df.insert(0, \"timestamp\", times)  # Add timestamp column at the beginning\n",
    "\n",
    "# Save to CSV\n",
    "df.to_csv(\"eeg_data.csv\", index=False)\n",
    "\n",
    "print(\"CSV file saved as eeg_data.csv\")\n"
   ]
  },
  {
   "cell_type": "code",
   "execution_count": 24,
   "id": "af853dcd",
   "metadata": {},
   "outputs": [
    {
     "name": "stdout",
     "output_type": "stream",
     "text": [
      "/yunity/msn39/EEG_Social_Media_Insights/raw datasets/NeuroSense/sub-ID000/ses-S001/eeg/sub-ID000_ses-S001_task-Default_run-001_eeg.json\n",
      "{'TaskName': 'Jungle Drum', 'TaskDescription': 'Lastfm_tag: fun, Artist: Emilíana Torrini, Highlight_start: 81, Num_ratings: 14, VAQ_Estimate: 1, VAQ_Online: 1, AVG_Valence: 6.8571, STD_Valence: 1.3015, Q1_Valence: 4.0, Q2_Valence: 6.5, Q3_Valence: 8.0, AVG_Arousal: 5.8571, STD_Arousal: 2.1993, Q1_Arousal: 4.0, Q2_Arousal: 7.0, Q3_Arousal: 7.0, AVG_Dominance: 6.0, STD_Dominance: 1.5584, Q1_Dominance: 5.0, Q2_Dominance: 6.0, Q3_Dominance: 7.0', 'Manufacturer': 'Muse', 'SamplingFrequency': 256, 'EEGChannelCount': 4, 'EEGReference': 'n/a', 'PowerLineFrequency': 50, 'SoftwareFilters': 'n/a'}\n"
     ]
    }
   ],
   "source": [
    "# Bonus Code for reading a JSON file\n",
    "import json\n",
    "\n",
    "# Open and read the JSON file\n",
    "filepath = os.path.join(r\"/yunity/msn39/EEG_Social_Media_Insights/raw datasets/NeuroSense/sub-ID000/ses-S001/eeg/sub-ID000_ses-S001_task-Default_run-001_eeg.json\")\n",
    "print(filepath)\n",
    "with open(filepath, 'r') as file:\n",
    "    data = json.load(file)\n",
    "\n",
    "print(data)"
   ]
  },
  {
   "cell_type": "code",
   "execution_count": 26,
   "id": "d9e967f5",
   "metadata": {},
   "outputs": [
    {
     "name": "stdout",
     "output_type": "stream",
     "text": [
      "{'Lastfm_tag': 'fun', 'Artist': 'Emilíana Torrini', 'Highlight_start': 81, 'Num_ratings': 14, 'VAQ_Estimate': 1, 'VAQ_Online': 1, 'AVG_Valence': 6.8571, 'STD_Valence': 1.3015, 'Q1_Valence': 4.0, 'Q2_Valence': 6.5, 'Q3_Valence': 8.0, 'AVG_Arousal': 5.8571, 'STD_Arousal': 2.1993, 'Q1_Arousal': 4.0, 'Q2_Arousal': 7.0, 'Q3_Arousal': 7.0, 'AVG_Dominance': 6.0, 'STD_Dominance': 1.5584, 'Q1_Dominance': 5.0, 'Q2_Dominance': 6.0, 'Q3_Dominance': 7.0}\n"
     ]
    }
   ],
   "source": [
    "# Make the information about the music being listened to into a dictionary\n",
    "\n",
    "# Step 1: Split into key-value pairs\n",
    "pairs = data[\"TaskDescription\"].split(', ')\n",
    "\n",
    "# Step 2: Convert to dictionary\n",
    "task_data = {}\n",
    "for pair in pairs:\n",
    "    key, value = pair.split(': ', 1)\n",
    "    # Attempt to cast to float or int\n",
    "    if value.replace('.', '', 1).isdigit():\n",
    "        if '.' in value:\n",
    "            value = float(value)\n",
    "        else:\n",
    "            value = int(value)\n",
    "    task_data[key] = value\n",
    "\n",
    "print(task_data)"
   ]
  },
  {
   "cell_type": "code",
   "execution_count": 28,
   "id": "29d366fa",
   "metadata": {},
   "outputs": [
    {
     "name": "stdout",
     "output_type": "stream",
     "text": [
      "General Tag: fun\n",
      "Valence: 6.8571\n",
      "Arousal: 5.8571\n"
     ]
    }
   ],
   "source": [
    "# Use the data\n",
    "print(\"General Tag:\", task_data['Lastfm_tag'])\n",
    "print(\"Valence:\", task_data['AVG_Valence'])\n",
    "print(\"Arousal:\", task_data['AVG_Arousal'])"
   ]
  }
 ],
 "metadata": {
  "kernelspec": {
   "display_name": "autoencoders",
   "language": "python",
   "name": "python3"
  },
  "language_info": {
   "codemirror_mode": {
    "name": "ipython",
    "version": 3
   },
   "file_extension": ".py",
   "mimetype": "text/x-python",
   "name": "python",
   "nbconvert_exporter": "python",
   "pygments_lexer": "ipython3",
   "version": "3.12.2"
  }
 },
 "nbformat": 4,
 "nbformat_minor": 5
}
